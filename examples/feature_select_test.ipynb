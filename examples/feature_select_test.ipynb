{
 "cells": [
  {
   "cell_type": "markdown",
   "metadata": {},
   "source": [
    "___\n",
    "## <center><a id=0 style='color:red'>Импорт библиотек</a>"
   ]
  },
  {
   "cell_type": "code",
   "execution_count": 2,
   "metadata": {},
   "outputs": [],
   "source": [
    "from ds_nms import utils_io, feature_select\n",
    "import pandas as pd\n",
    "import numpy as np\n",
    "import pickle\n",
    "\n",
    "from lightgbm import LGBMRegressor\n",
    "from catboost import CatBoostRegressor\n",
    "from sklearn.base import BaseEstimator\n",
    "from sklearn.linear_model import LinearRegression, Ridge, Lasso\n",
    "from sklearn.svm import SVR\n",
    "from sklearn.model_selection import (\n",
    "    train_test_split,\n",
    "    KFold,\n",
    "    cross_validate,\n",
    "    StratifiedGroupKFold,\n",
    "    StratifiedKFold,\n",
    ")\n",
    "from sklearn.metrics import (\n",
    "    mean_absolute_percentage_error,\n",
    "    mean_absolute_error,\n",
    "    mean_squared_error,\n",
    "    r2_score,\n",
    "    median_absolute_error,\n",
    ")\n",
    "from sklearn.preprocessing import (\n",
    "    StandardScaler,\n",
    "    RobustScaler,\n",
    "    QuantileTransformer,\n",
    "    Normalizer,\n",
    "    MinMaxScaler,\n",
    ")\n",
    "from sklearn.decomposition import PCA\n",
    "from sklearn.ensemble import (\n",
    "    RandomForestRegressor,\n",
    "    HistGradientBoostingRegressor,\n",
    "    IsolationForest,\n",
    "    GradientBoostingRegressor,\n",
    ")\n",
    "from sklearn.neighbors import KNeighborsRegressor\n",
    "from sklearn.neural_network import MLPRegressor\n",
    "from sklearn.tree import DecisionTreeRegressor, ExtraTreeRegressor\n",
    "from sklearn.feature_selection import RFE, SequentialFeatureSelector\n",
    "\n",
    "np.set_printoptions(suppress=True, precision=2)\n",
    "pd.set_option(\"display.max_rows\", 100)\n",
    "pd.set_option(\"display.max_columns\", 100)"
   ]
  },
  {
   "cell_type": "markdown",
   "metadata": {},
   "source": [
    "___\n",
    "## <center><a id=1 style='color:red'>Импорт датасета</a>\n",
    " [К описанию](#99)"
   ]
  },
  {
   "cell_type": "code",
   "execution_count": 3,
   "metadata": {},
   "outputs": [],
   "source": [
    "with open('data/train_poly/X_train_poly_1.pkl', 'rb') as file:\n",
    "    loaded_file = pickle.load(file)"
   ]
  },
  {
   "cell_type": "code",
   "execution_count": 5,
   "metadata": {},
   "outputs": [
    {
     "name": "stdout",
     "output_type": "stream",
     "text": [
      "Файл data/train_poly/X_train_poly_1.pkl успешно загружен.\n",
      "Файл data/train_poly/target_train_1.pkl успешно загружен.\n",
      "Файл data/train_poly/X_train_poly_2.pkl успешно загружен.\n",
      "Файл data/train_poly/target_train_2.pkl успешно загружен.\n",
      "Файл data/train_poly/X_train_poly_3.pkl успешно загружен.\n",
      "Файл data/train_poly/target_train_3.pkl успешно загружен.\n"
     ]
    },
    {
     "data": {
      "text/plain": [
       "((31, 20), (31,), (31, 20), (31,), (31, 20), (31,))"
      ]
     },
     "execution_count": 5,
     "metadata": {},
     "output_type": "execute_result"
    }
   ],
   "source": [
    "DIR = 'train_poly/'\n",
    "FILE_LST = ['X_train_poly_1','target_train_1','X_train_poly_2', 'target_train_2', 'X_train_poly_3', 'target_train_3']\n",
    "\n",
    "X_train_poly_1,target_train_1,X_train_poly_2, target_train_2, X_train_poly_3, target_train_3 = utils_io.load_data( FILE_LST, DIR )\n",
    "\n",
    "X_train_poly_1.shape, target_train_1.shape,X_train_poly_2.shape, target_train_2.shape, X_train_poly_3.shape, target_train_3.shape"
   ]
  },
  {
   "cell_type": "markdown",
   "metadata": {},
   "source": [
    "___\n",
    "___\n",
    "## <center><a id=3 style='color:red'>Выбор факторов</a>"
   ]
  },
  {
   "cell_type": "code",
   "execution_count": 6,
   "metadata": {},
   "outputs": [
    {
     "name": "stderr",
     "output_type": "stream",
     "text": [
      "[I 2025-01-13 14:14:08,955] A new study created in memory with name: X_train_1_LinearRegression()_study\n",
      "[I 2025-01-13 14:14:08,978] Trial 0 finished with value: 13954.896217234025 and parameters: {'n_features_to_select': 1}. Best is trial 0 with value: 13954.896217234025.\n",
      "[I 2025-01-13 14:14:08,993] Trial 1 finished with value: 29587.34916758036 and parameters: {'n_features_to_select': 16}. Best is trial 0 with value: 13954.896217234025.\n",
      "[I 2025-01-13 14:14:09,010] Trial 2 finished with value: 32684.131071304597 and parameters: {'n_features_to_select': 11}. Best is trial 0 with value: 13954.896217234025.\n",
      "[I 2025-01-13 14:14:09,027] Trial 3 finished with value: 39400.64804421227 and parameters: {'n_features_to_select': 14}. Best is trial 0 with value: 13954.896217234025.\n",
      "[I 2025-01-13 14:14:09,045] Trial 4 finished with value: 43013.53571058488 and parameters: {'n_features_to_select': 15}. Best is trial 0 with value: 13954.896217234025.\n",
      "[I 2025-01-13 14:14:09,081] Trial 5 finished with value: 20629.74466788871 and parameters: {'n_features_to_select': 8}. Best is trial 0 with value: 13954.896217234025.\n",
      "[I 2025-01-13 14:14:09,102] Trial 6 finished with value: 20739.151827638492 and parameters: {'n_features_to_select': 9}. Best is trial 0 with value: 13954.896217234025.\n",
      "[I 2025-01-13 14:14:09,129] Trial 7 finished with value: 18150.137329871075 and parameters: {'n_features_to_select': 4}. Best is trial 0 with value: 13954.896217234025.\n",
      "[I 2025-01-13 14:14:09,149] Trial 8 finished with value: 13124.613820164926 and parameters: {'n_features_to_select': 6}. Best is trial 8 with value: 13124.613820164926.\n",
      "[I 2025-01-13 14:14:09,167] Trial 9 finished with value: 31826.86017991274 and parameters: {'n_features_to_select': 12}. Best is trial 8 with value: 13124.613820164926.\n",
      "[I 2025-01-13 14:14:09,184] Trial 10 finished with value: 25150.04444802624 and parameters: {'n_features_to_select': 10}. Best is trial 8 with value: 13124.613820164926.\n",
      "[I 2025-01-13 14:14:09,209] Trial 11 finished with value: 15084.067128912637 and parameters: {'n_features_to_select': 3}. Best is trial 8 with value: 13124.613820164926.\n",
      "[I 2025-01-13 14:14:09,231] Trial 12 finished with value: 11978.474865154147 and parameters: {'n_features_to_select': 2}. Best is trial 12 with value: 11978.474865154147.\n",
      "[I 2025-01-13 14:14:09,249] Trial 13 finished with value: 17673.956243614535 and parameters: {'n_features_to_select': 7}. Best is trial 12 with value: 11978.474865154147.\n",
      "[I 2025-01-13 14:14:09,263] Trial 14 finished with value: 139661.8235356625 and parameters: {'n_features_to_select': 18}. Best is trial 12 with value: 11978.474865154147.\n",
      "[I 2025-01-13 14:14:09,284] Trial 15 finished with value: 11887.386753089973 and parameters: {'n_features_to_select': 5}. Best is trial 15 with value: 11887.386753089973.\n",
      "[I 2025-01-13 14:14:09,301] Trial 16 finished with value: 29907.92205103968 and parameters: {'n_features_to_select': 13}. Best is trial 15 with value: 11887.386753089973.\n",
      "[I 2025-01-13 14:14:09,318] Trial 17 finished with value: 104344.94181254273 and parameters: {'n_features_to_select': 17}. Best is trial 15 with value: 11887.386753089973.\n",
      "[I 2025-01-13 14:14:09,332] Trial 18 finished with value: 257587.57750566484 and parameters: {'n_features_to_select': 19}. Best is trial 15 with value: 11887.386753089973.\n"
     ]
    },
    {
     "data": {
      "text/plain": [
       "(5, <optuna.study.study.Study at 0x7f9f88408850>)"
      ]
     },
     "execution_count": 6,
     "metadata": {},
     "output_type": "execute_result"
    }
   ],
   "source": [
    "scoring=['neg_root_mean_squared_error']\n",
    "\n",
    "feature_select.get_best_n_features(X=X_train_poly_1,\n",
    "                                    y=target_train_1,\n",
    "                                    selector=RFE,\n",
    "                                    scoring=scoring,\n",
    "                                    estimator=LinearRegression(),\n",
    "                                    X_name='X_train_1',\n",
    "                                    n_folds=4)"
   ]
  },
  {
   "cell_type": "code",
   "execution_count": 7,
   "metadata": {},
   "outputs": [
    {
     "name": "stderr",
     "output_type": "stream",
     "text": [
      "[I 2025-01-13 14:14:13,162] A new study created in memory with name: X_train_1_LinearRegression()_study\n",
      "[I 2025-01-13 14:14:15,202] Trial 0 finished with value: 92769.7318017526 and parameters: {'n_features_to_select': 15}. Best is trial 0 with value: 92769.7318017526.\n",
      "[I 2025-01-13 14:14:17,414] Trial 1 finished with value: 150464.34206202536 and parameters: {'n_features_to_select': 19}. Best is trial 0 with value: 92769.7318017526.\n",
      "[I 2025-01-13 14:14:19,622] Trial 2 finished with value: 96349.15375072845 and parameters: {'n_features_to_select': 18}. Best is trial 0 with value: 92769.7318017526.\n",
      "[I 2025-01-13 14:14:21,786] Trial 3 finished with value: 156778.05399452947 and parameters: {'n_features_to_select': 17}. Best is trial 0 with value: 92769.7318017526.\n",
      "[I 2025-01-13 14:14:23,742] Trial 4 finished with value: 82206.14110360545 and parameters: {'n_features_to_select': 14}. Best is trial 4 with value: 82206.14110360545.\n",
      "[I 2025-01-13 14:14:25,618] Trial 5 finished with value: 57965.77635893113 and parameters: {'n_features_to_select': 13}. Best is trial 5 with value: 57965.77635893113.\n",
      "[I 2025-01-13 14:14:26,369] Trial 6 finished with value: 14222.01808378932 and parameters: {'n_features_to_select': 4}. Best is trial 6 with value: 14222.01808378932.\n",
      "[I 2025-01-13 14:14:27,597] Trial 7 finished with value: 15724.286669468143 and parameters: {'n_features_to_select': 7}. Best is trial 6 with value: 14222.01808378932.\n",
      "[I 2025-01-13 14:14:28,996] Trial 8 finished with value: 15348.976080368731 and parameters: {'n_features_to_select': 8}. Best is trial 6 with value: 14222.01808378932.\n",
      "[I 2025-01-13 14:14:30,121] Trial 9 finished with value: 14595.17984766185 and parameters: {'n_features_to_select': 6}. Best is trial 6 with value: 14222.01808378932.\n",
      "[I 2025-01-13 14:14:31,605] Trial 10 finished with value: 15770.335895530809 and parameters: {'n_features_to_select': 9}. Best is trial 6 with value: 14222.01808378932.\n",
      "[I 2025-01-13 14:14:33,388] Trial 11 finished with value: 28979.17679678996 and parameters: {'n_features_to_select': 12}. Best is trial 6 with value: 14222.01808378932.\n",
      "[I 2025-01-13 14:14:33,795] Trial 12 finished with value: 14415.793474525053 and parameters: {'n_features_to_select': 2}. Best is trial 6 with value: 14222.01808378932.\n",
      "[I 2025-01-13 14:14:35,368] Trial 13 finished with value: 17010.181405438685 and parameters: {'n_features_to_select': 10}. Best is trial 6 with value: 14222.01808378932.\n",
      "[I 2025-01-13 14:14:35,585] Trial 14 finished with value: 14410.626941687264 and parameters: {'n_features_to_select': 1}. Best is trial 6 with value: 14222.01808378932.\n",
      "[I 2025-01-13 14:14:36,165] Trial 15 finished with value: 14536.8074413281 and parameters: {'n_features_to_select': 3}. Best is trial 6 with value: 14222.01808378932.\n",
      "[I 2025-01-13 14:14:37,871] Trial 16 finished with value: 25411.596051919147 and parameters: {'n_features_to_select': 11}. Best is trial 6 with value: 14222.01808378932.\n",
      "[I 2025-01-13 14:14:38,793] Trial 17 finished with value: 15242.532399545282 and parameters: {'n_features_to_select': 5}. Best is trial 6 with value: 14222.01808378932.\n",
      "[I 2025-01-13 14:14:40,863] Trial 18 finished with value: 52753.55318532759 and parameters: {'n_features_to_select': 16}. Best is trial 6 with value: 14222.01808378932.\n"
     ]
    },
    {
     "data": {
      "text/plain": [
       "(4, <optuna.study.study.Study at 0x7f9f117e73a0>)"
      ]
     },
     "execution_count": 7,
     "metadata": {},
     "output_type": "execute_result"
    }
   ],
   "source": [
    "feature_select.get_best_n_features(X=X_train_poly_1,\n",
    "                                    y=target_train_1,\n",
    "                                    selector=SequentialFeatureSelector,\n",
    "                                    scoring=scoring,\n",
    "                                    estimator=LinearRegression(),\n",
    "                                    X_name='X_train_1',\n",
    "                                    n_folds=4,\n",
    "                                    direction='backward')"
   ]
  },
  {
   "cell_type": "code",
   "execution_count": 8,
   "metadata": {},
   "outputs": [
    {
     "name": "stderr",
     "output_type": "stream",
     "text": [
      "[I 2025-01-13 14:14:43,356] A new study created in memory with name: X_train_1_LinearRegression()_study\n",
      "[I 2025-01-13 14:14:43,582] Trial 0 finished with value: 14410.626941687264 and parameters: {'n_features_to_select': 1}. Best is trial 0 with value: 14410.626941687264.\n",
      "[I 2025-01-13 14:14:45,398] Trial 1 finished with value: 28979.17679678996 and parameters: {'n_features_to_select': 12}. Best is trial 0 with value: 14410.626941687264.\n",
      "[I 2025-01-13 14:14:46,161] Trial 2 finished with value: 14222.01808378932 and parameters: {'n_features_to_select': 4}. Best is trial 2 with value: 14222.01808378932.\n",
      "[I 2025-01-13 14:14:48,269] Trial 3 finished with value: 52753.55318532759 and parameters: {'n_features_to_select': 16}. Best is trial 2 with value: 14222.01808378932.\n",
      "[I 2025-01-13 14:14:48,687] Trial 4 finished with value: 14415.793474525053 and parameters: {'n_features_to_select': 2}. Best is trial 2 with value: 14222.01808378932.\n",
      "[I 2025-01-13 14:14:50,885] Trial 5 finished with value: 96349.15375072845 and parameters: {'n_features_to_select': 18}. Best is trial 2 with value: 14222.01808378932.\n",
      "[I 2025-01-13 14:14:52,022] Trial 6 finished with value: 14595.17984766185 and parameters: {'n_features_to_select': 6}. Best is trial 2 with value: 14222.01808378932.\n",
      "[I 2025-01-13 14:14:53,971] Trial 7 finished with value: 82206.14110360545 and parameters: {'n_features_to_select': 14}. Best is trial 2 with value: 14222.01808378932.\n",
      "[I 2025-01-13 14:14:55,857] Trial 8 finished with value: 57965.77635893113 and parameters: {'n_features_to_select': 13}. Best is trial 2 with value: 14222.01808378932.\n",
      "[I 2025-01-13 14:14:57,345] Trial 9 finished with value: 15770.335895530809 and parameters: {'n_features_to_select': 9}. Best is trial 2 with value: 14222.01808378932.\n",
      "[I 2025-01-13 14:14:58,592] Trial 10 finished with value: 15724.286669468143 and parameters: {'n_features_to_select': 7}. Best is trial 2 with value: 14222.01808378932.\n",
      "[I 2025-01-13 14:15:00,218] Trial 11 finished with value: 17010.181405438685 and parameters: {'n_features_to_select': 10}. Best is trial 2 with value: 14222.01808378932.\n",
      "[I 2025-01-13 14:15:02,376] Trial 12 finished with value: 156778.05399452947 and parameters: {'n_features_to_select': 17}. Best is trial 2 with value: 14222.01808378932.\n",
      "[I 2025-01-13 14:15:03,311] Trial 13 finished with value: 15242.532399545282 and parameters: {'n_features_to_select': 5}. Best is trial 2 with value: 14222.01808378932.\n",
      "[I 2025-01-13 14:15:05,051] Trial 14 finished with value: 25411.596051919147 and parameters: {'n_features_to_select': 11}. Best is trial 2 with value: 14222.01808378932.\n",
      "[I 2025-01-13 14:15:06,406] Trial 15 finished with value: 15348.976080368731 and parameters: {'n_features_to_select': 8}. Best is trial 2 with value: 14222.01808378932.\n",
      "[I 2025-01-13 14:15:08,496] Trial 16 finished with value: 92769.7318017526 and parameters: {'n_features_to_select': 15}. Best is trial 2 with value: 14222.01808378932.\n",
      "[I 2025-01-13 14:15:10,667] Trial 17 finished with value: 150464.34206202536 and parameters: {'n_features_to_select': 19}. Best is trial 2 with value: 14222.01808378932.\n",
      "[I 2025-01-13 14:15:11,273] Trial 18 finished with value: 14536.8074413281 and parameters: {'n_features_to_select': 3}. Best is trial 2 with value: 14222.01808378932.\n"
     ]
    },
    {
     "data": {
      "text/plain": [
       "(4, <optuna.study.study.Study at 0x7f9f039a1f00>)"
      ]
     },
     "execution_count": 8,
     "metadata": {},
     "output_type": "execute_result"
    }
   ],
   "source": [
    "feature_select.get_best_n_features(X=X_train_poly_1,\n",
    "                                    y=target_train_1,\n",
    "                                    selector=SequentialFeatureSelector,\n",
    "                                    scoring=scoring,\n",
    "                                    estimator=LinearRegression(),\n",
    "                                    X_name='X_train_1',\n",
    "                                    n_folds=4,\n",
    "                                    direction='forward')"
   ]
  },
  {
   "cell_type": "markdown",
   "metadata": {},
   "source": [
    "___\n",
    "### <a id=5>Recursive feature elimination</a>"
   ]
  },
  {
   "cell_type": "code",
   "execution_count": 4,
   "metadata": {},
   "outputs": [],
   "source": [
    "RAND_STATE = 1\n",
    "scoring=['neg_root_mean_squared_error']\n",
    "estimators_lst = [\n",
    "    LinearRegression(),\n",
    "    Ridge(alpha=0.2, random_state=RAND_STATE),\n",
    "    Lasso(alpha=0.2, random_state=RAND_STATE),\n",
    "    DecisionTreeRegressor(random_state=RAND_STATE),\n",
    "    ExtraTreeRegressor(random_state=RAND_STATE),\n",
    "    LGBMRegressor(random_state=RAND_STATE)\n",
    "                ]\n",
    "\n",
    "data_dict = {\n",
    "    \"X_train_rfe_1\": (X_train_poly_1, target_train_1),\n",
    "    \"X_train_rfe_2\": (X_train_poly_2, target_train_2),\n",
    "    \"X_train_rfe_3\": (X_train_poly_3, target_train_3),\n",
    "        }"
   ]
  },
  {
   "cell_type": "markdown",
   "metadata": {},
   "source": [
    "___"
   ]
  },
  {
   "cell_type": "code",
   "execution_count": 5,
   "metadata": {},
   "outputs": [
    {
     "name": "stdout",
     "output_type": "stream",
     "text": [
      "Файл data/train_poly/f_select_2025_01_13_13_03\\X_train_rfe_1_LinearRegression.pkl успешно сохранён.\n",
      "Файл data/train_poly/f_select_2025_01_13_13_03\\X_train_rfe_2_LinearRegression.pkl успешно сохранён.\n",
      "Файл data/train_poly/f_select_2025_01_13_13_03\\X_train_rfe_3_LinearRegression.pkl успешно сохранён.\n",
      "Файл data/train_poly/f_select_2025_01_13_13_03\\X_train_rfe_1_Ridge.pkl успешно сохранён.\n",
      "Файл data/train_poly/f_select_2025_01_13_13_03\\X_train_rfe_2_Ridge.pkl успешно сохранён.\n",
      "Файл data/train_poly/f_select_2025_01_13_13_03\\X_train_rfe_3_Ridge.pkl успешно сохранён.\n",
      "Файл data/train_poly/f_select_2025_01_13_13_03\\X_train_rfe_1_Lasso.pkl успешно сохранён.\n",
      "Файл data/train_poly/f_select_2025_01_13_13_03\\X_train_rfe_2_Lasso.pkl успешно сохранён.\n",
      "Файл data/train_poly/f_select_2025_01_13_13_03\\X_train_rfe_3_Lasso.pkl успешно сохранён.\n",
      "Файл data/train_poly/f_select_2025_01_13_13_03\\X_train_rfe_1_DecisionTreeRegressor.pkl успешно сохранён.\n",
      "Файл data/train_poly/f_select_2025_01_13_13_03\\X_train_rfe_2_DecisionTreeRegressor.pkl успешно сохранён.\n",
      "Файл data/train_poly/f_select_2025_01_13_13_03\\X_train_rfe_3_DecisionTreeRegressor.pkl успешно сохранён.\n",
      "Файл data/train_poly/f_select_2025_01_13_13_03\\X_train_rfe_1_ExtraTreeRegressor.pkl успешно сохранён.\n",
      "Файл data/train_poly/f_select_2025_01_13_13_03\\X_train_rfe_2_ExtraTreeRegressor.pkl успешно сохранён.\n",
      "Файл data/train_poly/f_select_2025_01_13_13_03\\X_train_rfe_3_ExtraTreeRegressor.pkl успешно сохранён.\n",
      "Файл data/train_poly/f_select_2025_01_13_13_03\\X_train_rfe_1_LGBMRegressor.pkl успешно сохранён.\n",
      "Файл data/train_poly/f_select_2025_01_13_13_03\\X_train_rfe_2_LGBMRegressor.pkl успешно сохранён.\n",
      "Файл data/train_poly/f_select_2025_01_13_13_03\\X_train_rfe_3_LGBMRegressor.pkl успешно сохранён.\n"
     ]
    },
    {
     "data": {
      "text/html": [
       "<div>\n",
       "<style scoped>\n",
       "    .dataframe tbody tr th:only-of-type {\n",
       "        vertical-align: middle;\n",
       "    }\n",
       "\n",
       "    .dataframe tbody tr th {\n",
       "        vertical-align: top;\n",
       "    }\n",
       "\n",
       "    .dataframe thead th {\n",
       "        text-align: right;\n",
       "    }\n",
       "</style>\n",
       "<table border=\"1\" class=\"dataframe\">\n",
       "  <thead>\n",
       "    <tr style=\"text-align: right;\">\n",
       "      <th></th>\n",
       "      <th>number</th>\n",
       "      <th>value</th>\n",
       "      <th>datetime_start</th>\n",
       "      <th>datetime_complete</th>\n",
       "      <th>duration</th>\n",
       "      <th>params_n_features_to_select</th>\n",
       "      <th>system_attrs_grid_id</th>\n",
       "      <th>system_attrs_search_space</th>\n",
       "      <th>state</th>\n",
       "      <th>data_name</th>\n",
       "      <th>estimator</th>\n",
       "    </tr>\n",
       "  </thead>\n",
       "  <tbody>\n",
       "    <tr>\n",
       "      <th>0</th>\n",
       "      <td>0</td>\n",
       "      <td>17673.956244</td>\n",
       "      <td>2025-01-13 13:03:02.092679</td>\n",
       "      <td>2025-01-13 13:03:02.112670</td>\n",
       "      <td>0 days 00:00:00.019991</td>\n",
       "      <td>7</td>\n",
       "      <td>0</td>\n",
       "      <td>{'n_features_to_select': [1, 2, 3, 4, 5, 6, 7,...</td>\n",
       "      <td>COMPLETE</td>\n",
       "      <td>X_train_rfe_1</td>\n",
       "      <td>LinearRegression</td>\n",
       "    </tr>\n",
       "    <tr>\n",
       "      <th>1</th>\n",
       "      <td>1</td>\n",
       "      <td>20739.151828</td>\n",
       "      <td>2025-01-13 13:03:02.113671</td>\n",
       "      <td>2025-01-13 13:03:02.134672</td>\n",
       "      <td>0 days 00:00:00.021001</td>\n",
       "      <td>9</td>\n",
       "      <td>1</td>\n",
       "      <td>{'n_features_to_select': [1, 2, 3, 4, 5, 6, 7,...</td>\n",
       "      <td>COMPLETE</td>\n",
       "      <td>X_train_rfe_1</td>\n",
       "      <td>LinearRegression</td>\n",
       "    </tr>\n",
       "    <tr>\n",
       "      <th>2</th>\n",
       "      <td>2</td>\n",
       "      <td>139661.823536</td>\n",
       "      <td>2025-01-13 13:03:02.135670</td>\n",
       "      <td>2025-01-13 13:03:02.160671</td>\n",
       "      <td>0 days 00:00:00.025001</td>\n",
       "      <td>18</td>\n",
       "      <td>2</td>\n",
       "      <td>{'n_features_to_select': [1, 2, 3, 4, 5, 6, 7,...</td>\n",
       "      <td>COMPLETE</td>\n",
       "      <td>X_train_rfe_1</td>\n",
       "      <td>LinearRegression</td>\n",
       "    </tr>\n",
       "    <tr>\n",
       "      <th>3</th>\n",
       "      <td>3</td>\n",
       "      <td>43013.535711</td>\n",
       "      <td>2025-01-13 13:03:02.162671</td>\n",
       "      <td>2025-01-13 13:03:02.186671</td>\n",
       "      <td>0 days 00:00:00.024000</td>\n",
       "      <td>15</td>\n",
       "      <td>3</td>\n",
       "      <td>{'n_features_to_select': [1, 2, 3, 4, 5, 6, 7,...</td>\n",
       "      <td>COMPLETE</td>\n",
       "      <td>X_train_rfe_1</td>\n",
       "      <td>LinearRegression</td>\n",
       "    </tr>\n",
       "    <tr>\n",
       "      <th>4</th>\n",
       "      <td>4</td>\n",
       "      <td>18150.137330</td>\n",
       "      <td>2025-01-13 13:03:02.187670</td>\n",
       "      <td>2025-01-13 13:03:02.208670</td>\n",
       "      <td>0 days 00:00:00.021000</td>\n",
       "      <td>4</td>\n",
       "      <td>4</td>\n",
       "      <td>{'n_features_to_select': [1, 2, 3, 4, 5, 6, 7,...</td>\n",
       "      <td>COMPLETE</td>\n",
       "      <td>X_train_rfe_1</td>\n",
       "      <td>LinearRegression</td>\n",
       "    </tr>\n",
       "    <tr>\n",
       "      <th>...</th>\n",
       "      <td>...</td>\n",
       "      <td>...</td>\n",
       "      <td>...</td>\n",
       "      <td>...</td>\n",
       "      <td>...</td>\n",
       "      <td>...</td>\n",
       "      <td>...</td>\n",
       "      <td>...</td>\n",
       "      <td>...</td>\n",
       "      <td>...</td>\n",
       "      <td>...</td>\n",
       "    </tr>\n",
       "    <tr>\n",
       "      <th>337</th>\n",
       "      <td>14</td>\n",
       "      <td>923.678798</td>\n",
       "      <td>2025-01-13 13:03:14.700481</td>\n",
       "      <td>2025-01-13 13:03:14.777474</td>\n",
       "      <td>0 days 00:00:00.076993</td>\n",
       "      <td>11</td>\n",
       "      <td>14</td>\n",
       "      <td>{'n_features_to_select': [1, 2, 3, 4, 5, 6, 7,...</td>\n",
       "      <td>COMPLETE</td>\n",
       "      <td>X_train_rfe_3</td>\n",
       "      <td>LGBMRegressor</td>\n",
       "    </tr>\n",
       "    <tr>\n",
       "      <th>338</th>\n",
       "      <td>15</td>\n",
       "      <td>923.678798</td>\n",
       "      <td>2025-01-13 13:03:14.778481</td>\n",
       "      <td>2025-01-13 13:03:14.833476</td>\n",
       "      <td>0 days 00:00:00.054995</td>\n",
       "      <td>19</td>\n",
       "      <td>15</td>\n",
       "      <td>{'n_features_to_select': [1, 2, 3, 4, 5, 6, 7,...</td>\n",
       "      <td>COMPLETE</td>\n",
       "      <td>X_train_rfe_3</td>\n",
       "      <td>LGBMRegressor</td>\n",
       "    </tr>\n",
       "    <tr>\n",
       "      <th>339</th>\n",
       "      <td>16</td>\n",
       "      <td>923.678798</td>\n",
       "      <td>2025-01-13 13:03:14.834478</td>\n",
       "      <td>2025-01-13 13:03:14.979477</td>\n",
       "      <td>0 days 00:00:00.144999</td>\n",
       "      <td>3</td>\n",
       "      <td>16</td>\n",
       "      <td>{'n_features_to_select': [1, 2, 3, 4, 5, 6, 7,...</td>\n",
       "      <td>COMPLETE</td>\n",
       "      <td>X_train_rfe_3</td>\n",
       "      <td>LGBMRegressor</td>\n",
       "    </tr>\n",
       "    <tr>\n",
       "      <th>340</th>\n",
       "      <td>17</td>\n",
       "      <td>923.678798</td>\n",
       "      <td>2025-01-13 13:03:14.980477</td>\n",
       "      <td>2025-01-13 13:03:15.063478</td>\n",
       "      <td>0 days 00:00:00.083001</td>\n",
       "      <td>18</td>\n",
       "      <td>17</td>\n",
       "      <td>{'n_features_to_select': [1, 2, 3, 4, 5, 6, 7,...</td>\n",
       "      <td>COMPLETE</td>\n",
       "      <td>X_train_rfe_3</td>\n",
       "      <td>LGBMRegressor</td>\n",
       "    </tr>\n",
       "    <tr>\n",
       "      <th>341</th>\n",
       "      <td>18</td>\n",
       "      <td>923.678798</td>\n",
       "      <td>2025-01-13 13:03:15.065475</td>\n",
       "      <td>2025-01-13 13:03:15.171481</td>\n",
       "      <td>0 days 00:00:00.106006</td>\n",
       "      <td>12</td>\n",
       "      <td>18</td>\n",
       "      <td>{'n_features_to_select': [1, 2, 3, 4, 5, 6, 7,...</td>\n",
       "      <td>COMPLETE</td>\n",
       "      <td>X_train_rfe_3</td>\n",
       "      <td>LGBMRegressor</td>\n",
       "    </tr>\n",
       "  </tbody>\n",
       "</table>\n",
       "<p>342 rows × 11 columns</p>\n",
       "</div>"
      ],
      "text/plain": [
       "     number          value             datetime_start  \\\n",
       "0         0   17673.956244 2025-01-13 13:03:02.092679   \n",
       "1         1   20739.151828 2025-01-13 13:03:02.113671   \n",
       "2         2  139661.823536 2025-01-13 13:03:02.135670   \n",
       "3         3   43013.535711 2025-01-13 13:03:02.162671   \n",
       "4         4   18150.137330 2025-01-13 13:03:02.187670   \n",
       "..      ...            ...                        ...   \n",
       "337      14     923.678798 2025-01-13 13:03:14.700481   \n",
       "338      15     923.678798 2025-01-13 13:03:14.778481   \n",
       "339      16     923.678798 2025-01-13 13:03:14.834478   \n",
       "340      17     923.678798 2025-01-13 13:03:14.980477   \n",
       "341      18     923.678798 2025-01-13 13:03:15.065475   \n",
       "\n",
       "             datetime_complete               duration  \\\n",
       "0   2025-01-13 13:03:02.112670 0 days 00:00:00.019991   \n",
       "1   2025-01-13 13:03:02.134672 0 days 00:00:00.021001   \n",
       "2   2025-01-13 13:03:02.160671 0 days 00:00:00.025001   \n",
       "3   2025-01-13 13:03:02.186671 0 days 00:00:00.024000   \n",
       "4   2025-01-13 13:03:02.208670 0 days 00:00:00.021000   \n",
       "..                         ...                    ...   \n",
       "337 2025-01-13 13:03:14.777474 0 days 00:00:00.076993   \n",
       "338 2025-01-13 13:03:14.833476 0 days 00:00:00.054995   \n",
       "339 2025-01-13 13:03:14.979477 0 days 00:00:00.144999   \n",
       "340 2025-01-13 13:03:15.063478 0 days 00:00:00.083001   \n",
       "341 2025-01-13 13:03:15.171481 0 days 00:00:00.106006   \n",
       "\n",
       "     params_n_features_to_select  system_attrs_grid_id  \\\n",
       "0                              7                     0   \n",
       "1                              9                     1   \n",
       "2                             18                     2   \n",
       "3                             15                     3   \n",
       "4                              4                     4   \n",
       "..                           ...                   ...   \n",
       "337                           11                    14   \n",
       "338                           19                    15   \n",
       "339                            3                    16   \n",
       "340                           18                    17   \n",
       "341                           12                    18   \n",
       "\n",
       "                             system_attrs_search_space     state  \\\n",
       "0    {'n_features_to_select': [1, 2, 3, 4, 5, 6, 7,...  COMPLETE   \n",
       "1    {'n_features_to_select': [1, 2, 3, 4, 5, 6, 7,...  COMPLETE   \n",
       "2    {'n_features_to_select': [1, 2, 3, 4, 5, 6, 7,...  COMPLETE   \n",
       "3    {'n_features_to_select': [1, 2, 3, 4, 5, 6, 7,...  COMPLETE   \n",
       "4    {'n_features_to_select': [1, 2, 3, 4, 5, 6, 7,...  COMPLETE   \n",
       "..                                                 ...       ...   \n",
       "337  {'n_features_to_select': [1, 2, 3, 4, 5, 6, 7,...  COMPLETE   \n",
       "338  {'n_features_to_select': [1, 2, 3, 4, 5, 6, 7,...  COMPLETE   \n",
       "339  {'n_features_to_select': [1, 2, 3, 4, 5, 6, 7,...  COMPLETE   \n",
       "340  {'n_features_to_select': [1, 2, 3, 4, 5, 6, 7,...  COMPLETE   \n",
       "341  {'n_features_to_select': [1, 2, 3, 4, 5, 6, 7,...  COMPLETE   \n",
       "\n",
       "         data_name         estimator  \n",
       "0    X_train_rfe_1  LinearRegression  \n",
       "1    X_train_rfe_1  LinearRegression  \n",
       "2    X_train_rfe_1  LinearRegression  \n",
       "3    X_train_rfe_1  LinearRegression  \n",
       "4    X_train_rfe_1  LinearRegression  \n",
       "..             ...               ...  \n",
       "337  X_train_rfe_3     LGBMRegressor  \n",
       "338  X_train_rfe_3     LGBMRegressor  \n",
       "339  X_train_rfe_3     LGBMRegressor  \n",
       "340  X_train_rfe_3     LGBMRegressor  \n",
       "341  X_train_rfe_3     LGBMRegressor  \n",
       "\n",
       "[342 rows x 11 columns]"
      ]
     },
     "execution_count": 5,
     "metadata": {},
     "output_type": "execute_result"
    }
   ],
   "source": [
    "result_df = feature_select.save_selected_features(data_dict=data_dict,\n",
    "                                    selector=RFE,\n",
    "                                    estimators=estimators_lst,\n",
    "                                    scoring=scoring,\n",
    "                                    output_dir=DIR)\n",
    "\n",
    "result_df"
   ]
  },
  {
   "cell_type": "code",
   "execution_count": 31,
   "metadata": {},
   "outputs": [
    {
     "data": {
      "text/html": [
       "<div>\n",
       "<style scoped>\n",
       "    .dataframe tbody tr th:only-of-type {\n",
       "        vertical-align: middle;\n",
       "    }\n",
       "\n",
       "    .dataframe tbody tr th {\n",
       "        vertical-align: top;\n",
       "    }\n",
       "\n",
       "    .dataframe thead th {\n",
       "        text-align: right;\n",
       "    }\n",
       "</style>\n",
       "<table border=\"1\" class=\"dataframe\">\n",
       "  <thead>\n",
       "    <tr style=\"text-align: right;\">\n",
       "      <th></th>\n",
       "      <th>number</th>\n",
       "      <th>value</th>\n",
       "      <th>datetime_start</th>\n",
       "      <th>datetime_complete</th>\n",
       "      <th>duration</th>\n",
       "      <th>params_n_features_to_select</th>\n",
       "      <th>system_attrs_grid_id</th>\n",
       "      <th>system_attrs_search_space</th>\n",
       "      <th>state</th>\n",
       "      <th>data_name</th>\n",
       "      <th>estimator</th>\n",
       "    </tr>\n",
       "  </thead>\n",
       "  <tbody>\n",
       "    <tr>\n",
       "      <th>119</th>\n",
       "      <td>5</td>\n",
       "      <td>11115.340033</td>\n",
       "      <td>2025-01-13 12:12:58.361451</td>\n",
       "      <td>2025-01-13 12:12:58.392457</td>\n",
       "      <td>0 days 00:00:00.031006</td>\n",
       "      <td>8</td>\n",
       "      <td>5</td>\n",
       "      <td>{'n_features_to_select': [1, 2, 3, 4, 5, 6, 7,...</td>\n",
       "      <td>COMPLETE</td>\n",
       "      <td>X_train_rfe_1</td>\n",
       "      <td>Lasso</td>\n",
       "    </tr>\n",
       "  </tbody>\n",
       "</table>\n",
       "</div>"
      ],
      "text/plain": [
       "     number         value             datetime_start  \\\n",
       "119       5  11115.340033 2025-01-13 12:12:58.361451   \n",
       "\n",
       "             datetime_complete               duration  \\\n",
       "119 2025-01-13 12:12:58.392457 0 days 00:00:00.031006   \n",
       "\n",
       "     params_n_features_to_select  system_attrs_grid_id  \\\n",
       "119                            8                     5   \n",
       "\n",
       "                             system_attrs_search_space     state  \\\n",
       "119  {'n_features_to_select': [1, 2, 3, 4, 5, 6, 7,...  COMPLETE   \n",
       "\n",
       "         data_name estimator  \n",
       "119  X_train_rfe_1     Lasso  "
      ]
     },
     "execution_count": 31,
     "metadata": {},
     "output_type": "execute_result"
    }
   ],
   "source": [
    "min_result_df_1 = result_df[result_df['data_name'] == 'X_train_rfe_1' ]\n",
    "min_result_df_1 = min_result_df_1[min_result_df_1['value'] == min_result_df_1['value'].min()]\n",
    "min_result_df_1"
   ]
  },
  {
   "cell_type": "code",
   "execution_count": 32,
   "metadata": {},
   "outputs": [
    {
     "data": {
      "text/html": [
       "<div>\n",
       "<style scoped>\n",
       "    .dataframe tbody tr th:only-of-type {\n",
       "        vertical-align: middle;\n",
       "    }\n",
       "\n",
       "    .dataframe tbody tr th {\n",
       "        vertical-align: top;\n",
       "    }\n",
       "\n",
       "    .dataframe thead th {\n",
       "        text-align: right;\n",
       "    }\n",
       "</style>\n",
       "<table border=\"1\" class=\"dataframe\">\n",
       "  <thead>\n",
       "    <tr style=\"text-align: right;\">\n",
       "      <th></th>\n",
       "      <th>number</th>\n",
       "      <th>value</th>\n",
       "      <th>datetime_start</th>\n",
       "      <th>datetime_complete</th>\n",
       "      <th>duration</th>\n",
       "      <th>params_n_features_to_select</th>\n",
       "      <th>system_attrs_grid_id</th>\n",
       "      <th>system_attrs_search_space</th>\n",
       "      <th>state</th>\n",
       "      <th>data_name</th>\n",
       "      <th>estimator</th>\n",
       "    </tr>\n",
       "  </thead>\n",
       "  <tbody>\n",
       "    <tr>\n",
       "      <th>139</th>\n",
       "      <td>6</td>\n",
       "      <td>1237.755061</td>\n",
       "      <td>2025-01-13 12:12:59.004451</td>\n",
       "      <td>2025-01-13 12:12:59.035460</td>\n",
       "      <td>0 days 00:00:00.031009</td>\n",
       "      <td>8</td>\n",
       "      <td>6</td>\n",
       "      <td>{'n_features_to_select': [1, 2, 3, 4, 5, 6, 7,...</td>\n",
       "      <td>COMPLETE</td>\n",
       "      <td>X_train_rfe_2</td>\n",
       "      <td>Lasso</td>\n",
       "    </tr>\n",
       "  </tbody>\n",
       "</table>\n",
       "</div>"
      ],
      "text/plain": [
       "     number        value             datetime_start  \\\n",
       "139       6  1237.755061 2025-01-13 12:12:59.004451   \n",
       "\n",
       "             datetime_complete               duration  \\\n",
       "139 2025-01-13 12:12:59.035460 0 days 00:00:00.031009   \n",
       "\n",
       "     params_n_features_to_select  system_attrs_grid_id  \\\n",
       "139                            8                     6   \n",
       "\n",
       "                             system_attrs_search_space     state  \\\n",
       "139  {'n_features_to_select': [1, 2, 3, 4, 5, 6, 7,...  COMPLETE   \n",
       "\n",
       "         data_name estimator  \n",
       "139  X_train_rfe_2     Lasso  "
      ]
     },
     "execution_count": 32,
     "metadata": {},
     "output_type": "execute_result"
    }
   ],
   "source": [
    "min_result_df_2 = result_df[result_df['data_name'] == 'X_train_rfe_2' ]\n",
    "min_result_df_2 = min_result_df_2[min_result_df_2['value'] == min_result_df_2['value'].min()]\n",
    "min_result_df_2"
   ]
  },
  {
   "cell_type": "code",
   "execution_count": 33,
   "metadata": {},
   "outputs": [
    {
     "data": {
      "text/html": [
       "<div>\n",
       "<style scoped>\n",
       "    .dataframe tbody tr th:only-of-type {\n",
       "        vertical-align: middle;\n",
       "    }\n",
       "\n",
       "    .dataframe tbody tr th {\n",
       "        vertical-align: top;\n",
       "    }\n",
       "\n",
       "    .dataframe thead th {\n",
       "        text-align: right;\n",
       "    }\n",
       "</style>\n",
       "<table border=\"1\" class=\"dataframe\">\n",
       "  <thead>\n",
       "    <tr style=\"text-align: right;\">\n",
       "      <th></th>\n",
       "      <th>number</th>\n",
       "      <th>value</th>\n",
       "      <th>datetime_start</th>\n",
       "      <th>datetime_complete</th>\n",
       "      <th>duration</th>\n",
       "      <th>params_n_features_to_select</th>\n",
       "      <th>system_attrs_grid_id</th>\n",
       "      <th>system_attrs_search_space</th>\n",
       "      <th>state</th>\n",
       "      <th>data_name</th>\n",
       "      <th>estimator</th>\n",
       "    </tr>\n",
       "  </thead>\n",
       "  <tbody>\n",
       "    <tr>\n",
       "      <th>99</th>\n",
       "      <td>4</td>\n",
       "      <td>527.330161</td>\n",
       "      <td>2025-01-13 12:12:57.911458</td>\n",
       "      <td>2025-01-13 12:12:57.926451</td>\n",
       "      <td>0 days 00:00:00.014993</td>\n",
       "      <td>9</td>\n",
       "      <td>4</td>\n",
       "      <td>{'n_features_to_select': [1, 2, 3, 4, 5, 6, 7,...</td>\n",
       "      <td>COMPLETE</td>\n",
       "      <td>X_train_rfe_3</td>\n",
       "      <td>Ridge</td>\n",
       "    </tr>\n",
       "  </tbody>\n",
       "</table>\n",
       "</div>"
      ],
      "text/plain": [
       "    number       value             datetime_start          datetime_complete  \\\n",
       "99       4  527.330161 2025-01-13 12:12:57.911458 2025-01-13 12:12:57.926451   \n",
       "\n",
       "                 duration  params_n_features_to_select  system_attrs_grid_id  \\\n",
       "99 0 days 00:00:00.014993                            9                     4   \n",
       "\n",
       "                            system_attrs_search_space     state  \\\n",
       "99  {'n_features_to_select': [1, 2, 3, 4, 5, 6, 7,...  COMPLETE   \n",
       "\n",
       "        data_name estimator  \n",
       "99  X_train_rfe_3     Ridge  "
      ]
     },
     "execution_count": 33,
     "metadata": {},
     "output_type": "execute_result"
    }
   ],
   "source": [
    "min_result_df_3 = result_df[result_df['data_name'] == 'X_train_rfe_3' ]\n",
    "min_result_df_3 = min_result_df_3[min_result_df_3['value'] == min_result_df_3['value'].min()]\n",
    "min_result_df_3\n"
   ]
  },
  {
   "cell_type": "code",
   "execution_count": 34,
   "metadata": {},
   "outputs": [
    {
     "name": "stdout",
     "output_type": "stream",
     "text": [
      "Файл data/train_poly/2025_01_13_12_12/X_train_rfe_1_Lasso.pkl успешно загружен.\n",
      "Файл data/train_poly/2025_01_13_12_12/X_train_rfe_2_Lasso.pkl успешно загружен.\n",
      "Файл data/train_poly/2025_01_13_12_12/X_train_rfe_3_Ridge.pkl успешно загружен.\n"
     ]
    },
    {
     "data": {
      "text/plain": [
       "((31, 8), (31, 8), (31, 9))"
      ]
     },
     "execution_count": 34,
     "metadata": {},
     "output_type": "execute_result"
    }
   ],
   "source": [
    "DIR_LOAD = 'train_poly/2025_01_13_12_12/'\n",
    "FILE_LST = ['X_train_rfe_1_Lasso', 'X_train_rfe_2_Lasso','X_train_rfe_3_Ridge']\n",
    "\n",
    "X_train_rfe_1_Lasso, X_train_rfe_2_Lasso, X_train_rfe_3_Ridge = utils_io.load_data( FILE_LST, DIR_LOAD )\n",
    "\n",
    "X_train_rfe_1_Lasso.shape, X_train_rfe_2_Lasso.shape, X_train_rfe_3_Ridge.shape"
   ]
  },
  {
   "cell_type": "markdown",
   "metadata": {},
   "source": [
    "___\n",
    "### <a id=5>SequentialFeatureSelector</a>"
   ]
  },
  {
   "cell_type": "code",
   "execution_count": null,
   "metadata": {},
   "outputs": [],
   "source": [
    "RAND_STATE = 1\n",
    "scoring=['neg_root_mean_squared_error']\n",
    "estimators_lst = [\n",
    "    LinearRegression(),\n",
    "    Ridge(alpha=0.2, random_state=RAND_STATE),\n",
    "    Lasso(alpha=0.2, random_state=RAND_STATE),\n",
    "    DecisionTreeRegressor(random_state=RAND_STATE),\n",
    "    ExtraTreeRegressor(random_state=RAND_STATE),\n",
    "    LGBMRegressor(random_state=RAND_STATE)\n",
    "                ]\n",
    "\n",
    "data_dict = {\n",
    "    \"X_train_rfe_1\": (X_train_poly_1, target_train_1),\n",
    "    \"X_train_rfe_2\": (X_train_poly_2, target_train_2),\n",
    "    \"X_train_rfe_3\": (X_train_poly_3, target_train_3),\n",
    "        }"
   ]
  },
  {
   "cell_type": "markdown",
   "metadata": {},
   "source": [
    "___"
   ]
  },
  {
   "cell_type": "code",
   "execution_count": null,
   "metadata": {},
   "outputs": [],
   "source": [
    "result_df = feature_select.save_selected_features(data_dict=data_dict,\n",
    "                                    selector=SequentialFeatureSelector,\n",
    "                                    estimators=estimators_lst,\n",
    "                                    scoring=scoring,\n",
    "                                    output_dir=DIR,\n",
    "                                    direction='backward')\n",
    "\n",
    "result_df"
   ]
  },
  {
   "cell_type": "code",
   "execution_count": 36,
   "metadata": {},
   "outputs": [
    {
     "data": {
      "text/html": [
       "<div>\n",
       "<style scoped>\n",
       "    .dataframe tbody tr th:only-of-type {\n",
       "        vertical-align: middle;\n",
       "    }\n",
       "\n",
       "    .dataframe tbody tr th {\n",
       "        vertical-align: top;\n",
       "    }\n",
       "\n",
       "    .dataframe thead th {\n",
       "        text-align: right;\n",
       "    }\n",
       "</style>\n",
       "<table border=\"1\" class=\"dataframe\">\n",
       "  <thead>\n",
       "    <tr style=\"text-align: right;\">\n",
       "      <th></th>\n",
       "      <th>number</th>\n",
       "      <th>value</th>\n",
       "      <th>datetime_start</th>\n",
       "      <th>datetime_complete</th>\n",
       "      <th>duration</th>\n",
       "      <th>params_n_features_to_select</th>\n",
       "      <th>system_attrs_grid_id</th>\n",
       "      <th>system_attrs_search_space</th>\n",
       "      <th>state</th>\n",
       "      <th>data_name</th>\n",
       "      <th>estimator</th>\n",
       "    </tr>\n",
       "  </thead>\n",
       "  <tbody>\n",
       "    <tr>\n",
       "      <th>73</th>\n",
       "      <td>16</td>\n",
       "      <td>10612.183263</td>\n",
       "      <td>2025-01-13 12:36:12.792489</td>\n",
       "      <td>2025-01-13 12:36:13.945488</td>\n",
       "      <td>0 days 00:00:01.152999</td>\n",
       "      <td>7</td>\n",
       "      <td>16</td>\n",
       "      <td>{'n_features_to_select': [1, 2, 3, 4, 5, 6, 7,...</td>\n",
       "      <td>COMPLETE</td>\n",
       "      <td>X_train_rfe_1</td>\n",
       "      <td>Ridge</td>\n",
       "    </tr>\n",
       "  </tbody>\n",
       "</table>\n",
       "</div>"
      ],
      "text/plain": [
       "    number         value             datetime_start  \\\n",
       "73      16  10612.183263 2025-01-13 12:36:12.792489   \n",
       "\n",
       "            datetime_complete               duration  \\\n",
       "73 2025-01-13 12:36:13.945488 0 days 00:00:01.152999   \n",
       "\n",
       "    params_n_features_to_select  system_attrs_grid_id  \\\n",
       "73                            7                    16   \n",
       "\n",
       "                            system_attrs_search_space     state  \\\n",
       "73  {'n_features_to_select': [1, 2, 3, 4, 5, 6, 7,...  COMPLETE   \n",
       "\n",
       "        data_name estimator  \n",
       "73  X_train_rfe_1     Ridge  "
      ]
     },
     "execution_count": 36,
     "metadata": {},
     "output_type": "execute_result"
    }
   ],
   "source": [
    "min_result_df_1 = result_df[result_df['data_name'] == 'X_train_rfe_1' ]\n",
    "min_result_df_1 = min_result_df_1[min_result_df_1['value'] == min_result_df_1['value'].min()]\n",
    "min_result_df_1"
   ]
  },
  {
   "cell_type": "code",
   "execution_count": 37,
   "metadata": {},
   "outputs": [
    {
     "data": {
      "text/html": [
       "<div>\n",
       "<style scoped>\n",
       "    .dataframe tbody tr th:only-of-type {\n",
       "        vertical-align: middle;\n",
       "    }\n",
       "\n",
       "    .dataframe tbody tr th {\n",
       "        vertical-align: top;\n",
       "    }\n",
       "\n",
       "    .dataframe thead th {\n",
       "        text-align: right;\n",
       "    }\n",
       "</style>\n",
       "<table border=\"1\" class=\"dataframe\">\n",
       "  <thead>\n",
       "    <tr style=\"text-align: right;\">\n",
       "      <th></th>\n",
       "      <th>number</th>\n",
       "      <th>value</th>\n",
       "      <th>datetime_start</th>\n",
       "      <th>datetime_complete</th>\n",
       "      <th>duration</th>\n",
       "      <th>params_n_features_to_select</th>\n",
       "      <th>system_attrs_grid_id</th>\n",
       "      <th>system_attrs_search_space</th>\n",
       "      <th>state</th>\n",
       "      <th>data_name</th>\n",
       "      <th>estimator</th>\n",
       "    </tr>\n",
       "  </thead>\n",
       "  <tbody>\n",
       "    <tr>\n",
       "      <th>27</th>\n",
       "      <td>8</td>\n",
       "      <td>1846.663942</td>\n",
       "      <td>2025-01-13 12:35:14.471493</td>\n",
       "      <td>2025-01-13 12:35:14.809494</td>\n",
       "      <td>0 days 00:00:00.338001</td>\n",
       "      <td>2</td>\n",
       "      <td>8</td>\n",
       "      <td>{'n_features_to_select': [1, 2, 3, 4, 5, 6, 7,...</td>\n",
       "      <td>COMPLETE</td>\n",
       "      <td>X_train_rfe_2</td>\n",
       "      <td>LinearRegression</td>\n",
       "    </tr>\n",
       "  </tbody>\n",
       "</table>\n",
       "</div>"
      ],
      "text/plain": [
       "    number        value             datetime_start          datetime_complete  \\\n",
       "27       8  1846.663942 2025-01-13 12:35:14.471493 2025-01-13 12:35:14.809494   \n",
       "\n",
       "                 duration  params_n_features_to_select  system_attrs_grid_id  \\\n",
       "27 0 days 00:00:00.338001                            2                     8   \n",
       "\n",
       "                            system_attrs_search_space     state  \\\n",
       "27  {'n_features_to_select': [1, 2, 3, 4, 5, 6, 7,...  COMPLETE   \n",
       "\n",
       "        data_name         estimator  \n",
       "27  X_train_rfe_2  LinearRegression  "
      ]
     },
     "execution_count": 37,
     "metadata": {},
     "output_type": "execute_result"
    }
   ],
   "source": [
    "min_result_df_2 = result_df[result_df['data_name'] == 'X_train_rfe_2' ]\n",
    "min_result_df_2 = min_result_df_2[min_result_df_2['value'] == min_result_df_2['value'].min()]\n",
    "min_result_df_2"
   ]
  },
  {
   "cell_type": "code",
   "execution_count": 38,
   "metadata": {},
   "outputs": [
    {
     "data": {
      "text/html": [
       "<div>\n",
       "<style scoped>\n",
       "    .dataframe tbody tr th:only-of-type {\n",
       "        vertical-align: middle;\n",
       "    }\n",
       "\n",
       "    .dataframe tbody tr th {\n",
       "        vertical-align: top;\n",
       "    }\n",
       "\n",
       "    .dataframe thead th {\n",
       "        text-align: right;\n",
       "    }\n",
       "</style>\n",
       "<table border=\"1\" class=\"dataframe\">\n",
       "  <thead>\n",
       "    <tr style=\"text-align: right;\">\n",
       "      <th></th>\n",
       "      <th>number</th>\n",
       "      <th>value</th>\n",
       "      <th>datetime_start</th>\n",
       "      <th>datetime_complete</th>\n",
       "      <th>duration</th>\n",
       "      <th>params_n_features_to_select</th>\n",
       "      <th>system_attrs_grid_id</th>\n",
       "      <th>system_attrs_search_space</th>\n",
       "      <th>state</th>\n",
       "      <th>data_name</th>\n",
       "      <th>estimator</th>\n",
       "    </tr>\n",
       "  </thead>\n",
       "  <tbody>\n",
       "    <tr>\n",
       "      <th>222</th>\n",
       "      <td>13</td>\n",
       "      <td>527.207107</td>\n",
       "      <td>2025-01-13 12:40:29.358802</td>\n",
       "      <td>2025-01-13 12:40:29.781802</td>\n",
       "      <td>0 days 00:00:00.423000</td>\n",
       "      <td>2</td>\n",
       "      <td>13</td>\n",
       "      <td>{'n_features_to_select': [1, 2, 3, 4, 5, 6, 7,...</td>\n",
       "      <td>COMPLETE</td>\n",
       "      <td>X_train_rfe_3</td>\n",
       "      <td>DecisionTreeRegressor</td>\n",
       "    </tr>\n",
       "  </tbody>\n",
       "</table>\n",
       "</div>"
      ],
      "text/plain": [
       "     number       value             datetime_start          datetime_complete  \\\n",
       "222      13  527.207107 2025-01-13 12:40:29.358802 2025-01-13 12:40:29.781802   \n",
       "\n",
       "                  duration  params_n_features_to_select  system_attrs_grid_id  \\\n",
       "222 0 days 00:00:00.423000                            2                    13   \n",
       "\n",
       "                             system_attrs_search_space     state  \\\n",
       "222  {'n_features_to_select': [1, 2, 3, 4, 5, 6, 7,...  COMPLETE   \n",
       "\n",
       "         data_name              estimator  \n",
       "222  X_train_rfe_3  DecisionTreeRegressor  "
      ]
     },
     "execution_count": 38,
     "metadata": {},
     "output_type": "execute_result"
    }
   ],
   "source": [
    "min_result_df_3 = result_df[result_df['data_name'] == 'X_train_rfe_3' ]\n",
    "min_result_df_3 = min_result_df_3[min_result_df_3['value'] == min_result_df_3['value'].min()]\n",
    "min_result_df_3\n"
   ]
  },
  {
   "cell_type": "code",
   "execution_count": 40,
   "metadata": {},
   "outputs": [
    {
     "name": "stdout",
     "output_type": "stream",
     "text": [
      "Файл data/train_poly/2025_01_13_12_12/2025_01_13_12_34/X_train_rfe_1_Ridge.pkl успешно загружен.\n",
      "Файл data/train_poly/2025_01_13_12_12/2025_01_13_12_34/X_train_rfe_2_LinearRegression.pkl успешно загружен.\n",
      "Файл data/train_poly/2025_01_13_12_12/2025_01_13_12_34/X_train_rfe_3_DecisionTreeRegressor.pkl успешно загружен.\n"
     ]
    },
    {
     "data": {
      "text/plain": [
       "((31, 7), (31, 2), (31, 2))"
      ]
     },
     "execution_count": 40,
     "metadata": {},
     "output_type": "execute_result"
    }
   ],
   "source": [
    "DIR_LOAD = 'train_poly/2025_01_13_12_12/2025_01_13_12_34/'\n",
    "FILE_LST = ['X_train_rfe_1_Ridge', 'X_train_rfe_2_LinearRegression','X_train_rfe_3_DecisionTreeRegressor']\n",
    "\n",
    "X_train_rfe_1_Ridge, X_train_rfe_2_LinearRegression, X_train_rfe_3_DecisionTreeRegressor = utils_io.load_data( FILE_LST, DIR_LOAD )\n",
    "\n",
    "X_train_rfe_1_Ridge.shape, X_train_rfe_2_LinearRegression.shape, X_train_rfe_3_DecisionTreeRegressor.shape"
   ]
  }
 ],
 "metadata": {
  "kernelspec": {
   "display_name": ".venv",
   "language": "python",
   "name": "python3"
  },
  "language_info": {
   "codemirror_mode": {
    "name": "ipython",
    "version": 3
   },
   "file_extension": ".py",
   "mimetype": "text/x-python",
   "name": "python",
   "nbconvert_exporter": "python",
   "pygments_lexer": "ipython3",
   "version": "3.10.12"
  }
 },
 "nbformat": 4,
 "nbformat_minor": 2
}
