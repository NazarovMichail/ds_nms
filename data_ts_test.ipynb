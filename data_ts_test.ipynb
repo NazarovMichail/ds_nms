{
 "cells": [
  {
   "cell_type": "markdown",
   "metadata": {},
   "source": [
    "## <a id=99>Описание датасета</a>\n",
    "\n",
    "[К датасету](#1)\n"
   ]
  },
  {
   "cell_type": "markdown",
   "metadata": {},
   "source": [
    "---\n",
    "\n",
    "## <center><a id=0 style='color:red'>Импорт библиотек</a>\n"
   ]
  },
  {
   "cell_type": "code",
   "execution_count": 23,
   "metadata": {},
   "outputs": [],
   "source": [
    "from ds_nms.funcs import *\n",
    "from ds_nms.optimize import *"
   ]
  },
  {
   "cell_type": "code",
   "execution_count": 24,
   "metadata": {},
   "outputs": [],
   "source": [
    "import pandas as pd\n",
    "from scipy.stats import kstest, kruskal\n",
    "import plotly.express as px\n",
    "import seaborn as sns\n",
    "import numpy as np\n",
    "import matplotlib.pyplot as plt\n",
    "from typing import List, Tuple, Any, Dict\n",
    "import pickle\n",
    "import os\n",
    "import matplotlib.pyplot as plt\n",
    "import seaborn as sns\n",
    "from lightgbm import LGBMRegressor\n",
    "from catboost import CatBoostRegressor\n",
    "from sklearn.base import BaseEstimator\n",
    "from sklearn.linear_model import LinearRegression, Ridge, Lasso\n",
    "from sklearn.svm import SVR\n",
    "from sklearn.model_selection import (\n",
    "    train_test_split,\n",
    "    KFold,\n",
    "    cross_validate,\n",
    "    StratifiedGroupKFold,\n",
    "    StratifiedKFold,\n",
    ")\n",
    "from sklearn.metrics import (\n",
    "    mean_absolute_percentage_error,\n",
    "    mean_absolute_error,\n",
    "    mean_squared_error,\n",
    "    r2_score,\n",
    "    median_absolute_error,\n",
    ")\n",
    "from sklearn.preprocessing import (\n",
    "    StandardScaler,\n",
    "    RobustScaler,\n",
    "    QuantileTransformer,\n",
    "    Normalizer,\n",
    "    MinMaxScaler,\n",
    "    PowerTransformer,\n",
    "    PolynomialFeatures,\n",
    "    OrdinalEncoder,\n",
    "    TargetEncoder,\n",
    ")\n",
    "from sklearn.decomposition import PCA\n",
    "from sklearn.ensemble import (\n",
    "    RandomForestRegressor,\n",
    "    HistGradientBoostingRegressor,\n",
    "    IsolationForest,\n",
    "    GradientBoostingRegressor,\n",
    ")\n",
    "from sklearn.neighbors import KNeighborsRegressor\n",
    "from sklearn.neural_network import MLPRegressor\n",
    "from sklearn.tree import DecisionTreeRegressor, ExtraTreeRegressor"
   ]
  },
  {
   "cell_type": "code",
   "execution_count": 25,
   "metadata": {},
   "outputs": [],
   "source": [
    "np.set_printoptions(suppress=True, precision=2)\n",
    "pd.set_option(\"display.max_rows\", 100)\n",
    "pd.set_option(\"display.max_columns\", 100)"
   ]
  },
  {
   "cell_type": "markdown",
   "metadata": {},
   "source": [
    "---\n",
    "\n",
    "## <center><a id=1 style='color:red'>Импорт датасета</a>\n",
    "\n",
    "[К описанию](#99)\n"
   ]
  },
  {
   "cell_type": "code",
   "execution_count": 26,
   "metadata": {},
   "outputs": [
    {
     "data": {
      "text/html": [
       "<div>\n",
       "<style scoped>\n",
       "    .dataframe tbody tr th:only-of-type {\n",
       "        vertical-align: middle;\n",
       "    }\n",
       "\n",
       "    .dataframe tbody tr th {\n",
       "        vertical-align: top;\n",
       "    }\n",
       "\n",
       "    .dataframe thead th {\n",
       "        text-align: right;\n",
       "    }\n",
       "</style>\n",
       "<table border=\"1\" class=\"dataframe\">\n",
       "  <thead>\n",
       "    <tr style=\"text-align: right;\">\n",
       "      <th></th>\n",
       "      <th>year</th>\n",
       "      <th>month</th>\n",
       "      <th>val_metro</th>\n",
       "      <th>%_ot</th>\n",
       "      <th>n_taxi_сar</th>\n",
       "      <th>p_rosstat</th>\n",
       "      <th>k</th>\n",
       "      <th>remote_work</th>\n",
       "      <th>hybrid</th>\n",
       "      <th>tourism</th>\n",
       "    </tr>\n",
       "    <tr>\n",
       "      <th>date</th>\n",
       "      <th></th>\n",
       "      <th></th>\n",
       "      <th></th>\n",
       "      <th></th>\n",
       "      <th></th>\n",
       "      <th></th>\n",
       "      <th></th>\n",
       "      <th></th>\n",
       "      <th></th>\n",
       "      <th></th>\n",
       "    </tr>\n",
       "  </thead>\n",
       "  <tbody>\n",
       "    <tr>\n",
       "      <th>2016-01-01</th>\n",
       "      <td>2016</td>\n",
       "      <td>1</td>\n",
       "      <td>7687405</td>\n",
       "      <td>0.664580</td>\n",
       "      <td>1.122006e+06</td>\n",
       "      <td>12179000</td>\n",
       "      <td>0.919547</td>\n",
       "      <td>0.0482</td>\n",
       "      <td>0.0723</td>\n",
       "      <td>1.050002e+06</td>\n",
       "    </tr>\n",
       "    <tr>\n",
       "      <th>2016-02-01</th>\n",
       "      <td>2016</td>\n",
       "      <td>2</td>\n",
       "      <td>7928317</td>\n",
       "      <td>0.645410</td>\n",
       "      <td>1.168815e+06</td>\n",
       "      <td>12179000</td>\n",
       "      <td>0.957532</td>\n",
       "      <td>0.0482</td>\n",
       "      <td>0.0723</td>\n",
       "      <td>9.911876e+05</td>\n",
       "    </tr>\n",
       "    <tr>\n",
       "      <th>2016-03-01</th>\n",
       "      <td>2016</td>\n",
       "      <td>3</td>\n",
       "      <td>8228019</td>\n",
       "      <td>0.643148</td>\n",
       "      <td>1.214508e+06</td>\n",
       "      <td>12179000</td>\n",
       "      <td>0.982312</td>\n",
       "      <td>0.0482</td>\n",
       "      <td>0.0723</td>\n",
       "      <td>1.128213e+06</td>\n",
       "    </tr>\n",
       "  </tbody>\n",
       "</table>\n",
       "</div>"
      ],
      "text/plain": [
       "            year  month  val_metro      %_ot    n_taxi_сar  p_rosstat  \\\n",
       "date                                                                    \n",
       "2016-01-01  2016      1    7687405  0.664580  1.122006e+06   12179000   \n",
       "2016-02-01  2016      2    7928317  0.645410  1.168815e+06   12179000   \n",
       "2016-03-01  2016      3    8228019  0.643148  1.214508e+06   12179000   \n",
       "\n",
       "                   k  remote_work  hybrid       tourism  \n",
       "date                                                     \n",
       "2016-01-01  0.919547       0.0482  0.0723  1.050002e+06  \n",
       "2016-02-01  0.957532       0.0482  0.0723  9.911876e+05  \n",
       "2016-03-01  0.982312       0.0482  0.0723  1.128213e+06  "
      ]
     },
     "metadata": {},
     "output_type": "display_data"
    },
    {
     "data": {
      "text/plain": [
       "(106, 10)"
      ]
     },
     "execution_count": 26,
     "metadata": {},
     "output_type": "execute_result"
    }
   ],
   "source": [
    "df = pd.read_excel(io='data/Data_7.xlsx', header=2)\n",
    "df['date'] = pd.to_datetime(df[['year', 'month']].assign(day=1))\n",
    "df.set_index('date', inplace=True)\n",
    "\n",
    "df.index.freq = 'MS'\n",
    "display(df.head(3))\n",
    "df.shape"
   ]
  },
  {
   "cell_type": "code",
   "execution_count": 27,
   "metadata": {},
   "outputs": [
    {
     "data": {
      "text/html": [
       "<div>\n",
       "<style scoped>\n",
       "    .dataframe tbody tr th:only-of-type {\n",
       "        vertical-align: middle;\n",
       "    }\n",
       "\n",
       "    .dataframe tbody tr th {\n",
       "        vertical-align: top;\n",
       "    }\n",
       "\n",
       "    .dataframe thead th {\n",
       "        text-align: right;\n",
       "    }\n",
       "</style>\n",
       "<table border=\"1\" class=\"dataframe\">\n",
       "  <thead>\n",
       "    <tr style=\"text-align: right;\">\n",
       "      <th></th>\n",
       "      <th>year</th>\n",
       "      <th>month</th>\n",
       "      <th>val_metro</th>\n",
       "      <th>%_ot</th>\n",
       "      <th>n_taxi_сar</th>\n",
       "      <th>p_rosstat</th>\n",
       "      <th>k</th>\n",
       "      <th>remote_work</th>\n",
       "      <th>hybrid</th>\n",
       "      <th>tourism</th>\n",
       "    </tr>\n",
       "    <tr>\n",
       "      <th>date</th>\n",
       "      <th></th>\n",
       "      <th></th>\n",
       "      <th></th>\n",
       "      <th></th>\n",
       "      <th></th>\n",
       "      <th></th>\n",
       "      <th></th>\n",
       "      <th></th>\n",
       "      <th></th>\n",
       "      <th></th>\n",
       "    </tr>\n",
       "  </thead>\n",
       "  <tbody>\n",
       "    <tr>\n",
       "      <th>2024-11-01</th>\n",
       "      <td>2024</td>\n",
       "      <td>11</td>\n",
       "      <td>NaN</td>\n",
       "      <td>0.645995</td>\n",
       "      <td>1.750632e+06</td>\n",
       "      <td>13150000</td>\n",
       "      <td>1.019619</td>\n",
       "      <td>0.0645</td>\n",
       "      <td>0.1828</td>\n",
       "      <td>2.263888e+06</td>\n",
       "    </tr>\n",
       "    <tr>\n",
       "      <th>2024-12-01</th>\n",
       "      <td>2024</td>\n",
       "      <td>12</td>\n",
       "      <td>NaN</td>\n",
       "      <td>0.640792</td>\n",
       "      <td>1.829924e+06</td>\n",
       "      <td>13150000</td>\n",
       "      <td>1.031504</td>\n",
       "      <td>0.0645</td>\n",
       "      <td>0.1828</td>\n",
       "      <td>2.344510e+06</td>\n",
       "    </tr>\n",
       "    <tr>\n",
       "      <th>2025-01-01</th>\n",
       "      <td>2025</td>\n",
       "      <td>1</td>\n",
       "      <td>NaN</td>\n",
       "      <td>0.658882</td>\n",
       "      <td>1.670500e+06</td>\n",
       "      <td>13150000</td>\n",
       "      <td>0.919547</td>\n",
       "      <td>0.0645</td>\n",
       "      <td>0.1828</td>\n",
       "      <td>2.541762e+06</td>\n",
       "    </tr>\n",
       "  </tbody>\n",
       "</table>\n",
       "</div>"
      ],
      "text/plain": [
       "            year  month  val_metro      %_ot    n_taxi_сar  p_rosstat  \\\n",
       "date                                                                    \n",
       "2024-11-01  2024     11        NaN  0.645995  1.750632e+06   13150000   \n",
       "2024-12-01  2024     12        NaN  0.640792  1.829924e+06   13150000   \n",
       "2025-01-01  2025      1        NaN  0.658882  1.670500e+06   13150000   \n",
       "\n",
       "                   k  remote_work  hybrid       tourism  \n",
       "date                                                     \n",
       "2024-11-01  1.019619       0.0645  0.1828  2.263888e+06  \n",
       "2024-12-01  1.031504       0.0645  0.1828  2.344510e+06  \n",
       "2025-01-01  0.919547       0.0645  0.1828  2.541762e+06  "
      ]
     },
     "metadata": {},
     "output_type": "display_data"
    },
    {
     "data": {
      "text/plain": [
       "(134, 10)"
      ]
     },
     "execution_count": 27,
     "metadata": {},
     "output_type": "execute_result"
    }
   ],
   "source": [
    "df_test = pd.read_excel(io='data/Data_9.1.xlsx', header=2)\n",
    "df_test['date'] = pd.to_datetime(df_test[['year', 'month']].assign(day=1))\n",
    "df_test.set_index('date', inplace=True)\n",
    "\n",
    "df_test.index.freq = 'MS'\n",
    "display(df_test.head(3))\n",
    "df_test.shape"
   ]
  },
  {
   "cell_type": "code",
   "execution_count": 28,
   "metadata": {},
   "outputs": [
    {
     "data": {
      "text/plain": [
       "(year           False\n",
       " month          False\n",
       " val_metro      False\n",
       " %_ot           False\n",
       " n_taxi_сar     False\n",
       " p_rosstat      False\n",
       " k              False\n",
       " remote_work    False\n",
       " hybrid         False\n",
       " tourism        False\n",
       " dtype: bool,\n",
       " year           False\n",
       " month          False\n",
       " val_metro       True\n",
       " %_ot           False\n",
       " n_taxi_сar     False\n",
       " p_rosstat      False\n",
       " k              False\n",
       " remote_work    False\n",
       " hybrid         False\n",
       " tourism        False\n",
       " dtype: bool)"
      ]
     },
     "execution_count": 28,
     "metadata": {},
     "output_type": "execute_result"
    }
   ],
   "source": [
    "(df.isna()).any(), (df_test.isna()).any()"
   ]
  },
  {
   "cell_type": "code",
   "execution_count": 29,
   "metadata": {},
   "outputs": [
    {
     "data": {
      "text/plain": [
       "(False, False)"
      ]
     },
     "execution_count": 29,
     "metadata": {},
     "output_type": "execute_result"
    }
   ],
   "source": [
    "(df.min().values < 0).any(), (df_test.min().values < 0).any()"
   ]
  },
  {
   "cell_type": "code",
   "execution_count": 30,
   "metadata": {},
   "outputs": [
    {
     "data": {
      "image/png": "[encoded data removed]",
      "text/plain": [
       "<Figure size 1500x1000 with 1 Axes>"
      ]
     },
     "metadata": {},
     "output_type": "display_data"
    }
   ],
   "source": [
    "plt.figure(figsize=(15,10))\n",
    "plt.plot(df.index, df['val_metro'], label='Среднемесячный пассажиропоток', marker='o')\n",
    "plt.axvline(x=df.index[54],linestyle='--', color='r', label=\"Выбросы\")\n",
    "plt.legend()\n",
    "plt.grid()"
   ]
  },
  {
   "cell_type": "markdown",
   "metadata": {},
   "source": [
    "---\n",
    "\n",
    "## <center><a id=3 style='color:red'>Разделение на обучающую и тестовую выборки</a>\n"
   ]
  },
  {
   "cell_type": "code",
   "execution_count": 31,
   "metadata": {},
   "outputs": [
    {
     "data": {
      "text/plain": [
       "((106, 7), (106,), (134, 7))"
      ]
     },
     "execution_count": 31,
     "metadata": {},
     "output_type": "execute_result"
    }
   ],
   "source": [
    "train_data = df\n",
    "test_data = df_test\n",
    "\n",
    "y_train = train_data['val_metro']\n",
    "\n",
    "X_train = train_data.iloc[:, 3:]\n",
    "X_test = test_data.iloc[:, 3:]\n",
    "\n",
    "X_train.shape, y_train.shape, X_test.shape,"
   ]
  },
  {
   "cell_type": "markdown",
   "metadata": {},
   "source": [
    "---\n",
    "\n",
    "## <center><a id=2 style='color:red'>Разделение на категориальные и числовые признаки</a>\n"
   ]
  },
  {
   "cell_type": "code",
   "execution_count": 32,
   "metadata": {},
   "outputs": [
    {
     "name": "stdout",
     "output_type": "stream",
     "text": [
      "Категориальные признаки: []\n",
      "Числовые признаки: ['%_ot', 'n_taxi_сar', 'p_rosstat', 'k', 'remote_work', 'hybrid', 'tourism']\n"
     ]
    }
   ],
   "source": [
    "categorical_columns, numerical_columns = features_separate(df=df, threshold=0)\n",
    "numerical_columns.remove(\"val_metro\")\n",
    "numerical_columns.remove(\"year\")\n",
    "numerical_columns.remove(\"month\")\n",
    "\n",
    "print(f\"Категориальные признаки: {categorical_columns}\")\n",
    "print(f\"Числовые признаки: {numerical_columns}\")"
   ]
  },
  {
   "cell_type": "markdown",
   "metadata": {},
   "source": [
    "---\n",
    "\n",
    "## <center><a id=3 style='color:red'>Преобразование числовых признаков</a>\n"
   ]
  },
  {
   "cell_type": "markdown",
   "metadata": {},
   "source": [
    "### <a id=5>Относительные признаки Target 1</a>\n"
   ]
  },
  {
   "cell_type": "code",
   "execution_count": 33,
   "metadata": {},
   "outputs": [
    {
     "data": {
      "text/html": [
       "<div>\n",
       "<style scoped>\n",
       "    .dataframe tbody tr th:only-of-type {\n",
       "        vertical-align: middle;\n",
       "    }\n",
       "\n",
       "    .dataframe tbody tr th {\n",
       "        vertical-align: top;\n",
       "    }\n",
       "\n",
       "    .dataframe thead th {\n",
       "        text-align: right;\n",
       "    }\n",
       "</style>\n",
       "<table border=\"1\" class=\"dataframe\">\n",
       "  <thead>\n",
       "    <tr style=\"text-align: right;\">\n",
       "      <th></th>\n",
       "      <th>%_ot</th>\n",
       "      <th>n_taxi_сar</th>\n",
       "      <th>p_rosstat</th>\n",
       "      <th>k</th>\n",
       "      <th>remote_work</th>\n",
       "      <th>hybrid</th>\n",
       "      <th>tourism</th>\n",
       "    </tr>\n",
       "    <tr>\n",
       "      <th>date</th>\n",
       "      <th></th>\n",
       "      <th></th>\n",
       "      <th></th>\n",
       "      <th></th>\n",
       "      <th></th>\n",
       "      <th></th>\n",
       "      <th></th>\n",
       "    </tr>\n",
       "  </thead>\n",
       "  <tbody>\n",
       "    <tr>\n",
       "      <th>2024-10-01</th>\n",
       "      <td>0.64314</td>\n",
       "      <td>1717925.66</td>\n",
       "      <td>13150000</td>\n",
       "      <td>1.0</td>\n",
       "      <td>0.0645</td>\n",
       "      <td>0.1828</td>\n",
       "      <td>2.186039e+06</td>\n",
       "    </tr>\n",
       "  </tbody>\n",
       "</table>\n",
       "</div>"
      ],
      "text/plain": [
       "               %_ot  n_taxi_сar  p_rosstat    k  remote_work  hybrid  \\\n",
       "date                                                                   \n",
       "2024-10-01  0.64314  1717925.66   13150000  1.0       0.0645  0.1828   \n",
       "\n",
       "                 tourism  \n",
       "date                      \n",
       "2024-10-01  2.186039e+06  "
      ]
     },
     "execution_count": 33,
     "metadata": {},
     "output_type": "execute_result"
    }
   ],
   "source": [
    "X_train.sample(1)"
   ]
  },
  {
   "cell_type": "code",
   "execution_count": 34,
   "metadata": {},
   "outputs": [
    {
     "data": {
      "text/html": [
       "<div>\n",
       "<style scoped>\n",
       "    .dataframe tbody tr th:only-of-type {\n",
       "        vertical-align: middle;\n",
       "    }\n",
       "\n",
       "    .dataframe tbody tr th {\n",
       "        vertical-align: top;\n",
       "    }\n",
       "\n",
       "    .dataframe thead th {\n",
       "        text-align: right;\n",
       "    }\n",
       "</style>\n",
       "<table border=\"1\" class=\"dataframe\">\n",
       "  <thead>\n",
       "    <tr style=\"text-align: right;\">\n",
       "      <th></th>\n",
       "      <th>%_ot</th>\n",
       "      <th>n_taxi_сar</th>\n",
       "      <th>p_rosstat</th>\n",
       "      <th>k</th>\n",
       "      <th>remote_work</th>\n",
       "      <th>hybrid</th>\n",
       "      <th>tourism</th>\n",
       "    </tr>\n",
       "    <tr>\n",
       "      <th>date</th>\n",
       "      <th></th>\n",
       "      <th></th>\n",
       "      <th></th>\n",
       "      <th></th>\n",
       "      <th></th>\n",
       "      <th></th>\n",
       "      <th></th>\n",
       "    </tr>\n",
       "  </thead>\n",
       "  <tbody>\n",
       "    <tr>\n",
       "      <th>2028-06-01</th>\n",
       "      <td>0.671187</td>\n",
       "      <td>1731015.42</td>\n",
       "      <td>13150000</td>\n",
       "      <td>0.933508</td>\n",
       "      <td>0.0645</td>\n",
       "      <td>0.1828</td>\n",
       "      <td>3.680044e+06</td>\n",
       "    </tr>\n",
       "  </tbody>\n",
       "</table>\n",
       "</div>"
      ],
      "text/plain": [
       "                %_ot  n_taxi_сar  p_rosstat         k  remote_work  hybrid  \\\n",
       "date                                                                         \n",
       "2028-06-01  0.671187  1731015.42   13150000  0.933508       0.0645  0.1828   \n",
       "\n",
       "                 tourism  \n",
       "date                      \n",
       "2028-06-01  3.680044e+06  "
      ]
     },
     "execution_count": 34,
     "metadata": {},
     "output_type": "execute_result"
    }
   ],
   "source": [
    "X_test.sample(1)"
   ]
  },
  {
   "cell_type": "markdown",
   "metadata": {},
   "source": [
    "---\n",
    "\n",
    "### <a id=5>Стандартизация Target 1</a>\n"
   ]
  },
  {
   "cell_type": "code",
   "execution_count": 35,
   "metadata": {},
   "outputs": [
    {
     "name": "stdout",
     "output_type": "stream",
     "text": [
      "(106, 7) (134, 7)\n"
     ]
    },
    {
     "data": {
      "text/html": [
       "<div>\n",
       "<style scoped>\n",
       "    .dataframe tbody tr th:only-of-type {\n",
       "        vertical-align: middle;\n",
       "    }\n",
       "\n",
       "    .dataframe tbody tr th {\n",
       "        vertical-align: top;\n",
       "    }\n",
       "\n",
       "    .dataframe thead th {\n",
       "        text-align: right;\n",
       "    }\n",
       "</style>\n",
       "<table border=\"1\" class=\"dataframe\">\n",
       "  <thead>\n",
       "    <tr style=\"text-align: right;\">\n",
       "      <th></th>\n",
       "      <th>%_ot</th>\n",
       "      <th>n_taxi_сar</th>\n",
       "      <th>p_rosstat</th>\n",
       "      <th>k</th>\n",
       "      <th>remote_work</th>\n",
       "      <th>hybrid</th>\n",
       "      <th>tourism</th>\n",
       "    </tr>\n",
       "  </thead>\n",
       "  <tbody>\n",
       "    <tr>\n",
       "      <th>count</th>\n",
       "      <td>106.0</td>\n",
       "      <td>106.0</td>\n",
       "      <td>106.0</td>\n",
       "      <td>106.0</td>\n",
       "      <td>106.0</td>\n",
       "      <td>106.0</td>\n",
       "      <td>106.0</td>\n",
       "    </tr>\n",
       "    <tr>\n",
       "      <th>mean</th>\n",
       "      <td>-0.0</td>\n",
       "      <td>0.0</td>\n",
       "      <td>0.0</td>\n",
       "      <td>0.0</td>\n",
       "      <td>-0.0</td>\n",
       "      <td>-0.0</td>\n",
       "      <td>0.0</td>\n",
       "    </tr>\n",
       "    <tr>\n",
       "      <th>std</th>\n",
       "      <td>1.0</td>\n",
       "      <td>1.0</td>\n",
       "      <td>1.0</td>\n",
       "      <td>1.0</td>\n",
       "      <td>1.0</td>\n",
       "      <td>1.0</td>\n",
       "      <td>1.0</td>\n",
       "    </tr>\n",
       "    <tr>\n",
       "      <th>min</th>\n",
       "      <td>-5.2</td>\n",
       "      <td>-2.6</td>\n",
       "      <td>-1.5</td>\n",
       "      <td>-2.0</td>\n",
       "      <td>-0.5</td>\n",
       "      <td>-1.0</td>\n",
       "      <td>-2.8</td>\n",
       "    </tr>\n",
       "    <tr>\n",
       "      <th>25%</th>\n",
       "      <td>-0.2</td>\n",
       "      <td>-1.0</td>\n",
       "      <td>-0.5</td>\n",
       "      <td>-0.4</td>\n",
       "      <td>-0.5</td>\n",
       "      <td>-1.0</td>\n",
       "      <td>-0.7</td>\n",
       "    </tr>\n",
       "    <tr>\n",
       "      <th>50%</th>\n",
       "      <td>0.3</td>\n",
       "      <td>0.1</td>\n",
       "      <td>-0.1</td>\n",
       "      <td>0.1</td>\n",
       "      <td>-0.4</td>\n",
       "      <td>0.5</td>\n",
       "      <td>0.2</td>\n",
       "    </tr>\n",
       "    <tr>\n",
       "      <th>75%</th>\n",
       "      <td>0.6</td>\n",
       "      <td>1.0</td>\n",
       "      <td>1.0</td>\n",
       "      <td>0.6</td>\n",
       "      <td>0.5</td>\n",
       "      <td>1.3</td>\n",
       "      <td>0.6</td>\n",
       "    </tr>\n",
       "    <tr>\n",
       "      <th>max</th>\n",
       "      <td>1.3</td>\n",
       "      <td>1.7</td>\n",
       "      <td>1.4</td>\n",
       "      <td>1.4</td>\n",
       "      <td>6.1</td>\n",
       "      <td>1.3</td>\n",
       "      <td>2.0</td>\n",
       "    </tr>\n",
       "  </tbody>\n",
       "</table>\n",
       "</div>"
      ],
      "text/plain": [
       "        %_ot  n_taxi_сar  p_rosstat      k  remote_work  hybrid  tourism\n",
       "count  106.0       106.0      106.0  106.0        106.0   106.0    106.0\n",
       "mean    -0.0         0.0        0.0    0.0         -0.0    -0.0      0.0\n",
       "std      1.0         1.0        1.0    1.0          1.0     1.0      1.0\n",
       "min     -5.2        -2.6       -1.5   -2.0         -0.5    -1.0     -2.8\n",
       "25%     -0.2        -1.0       -0.5   -0.4         -0.5    -1.0     -0.7\n",
       "50%      0.3         0.1       -0.1    0.1         -0.4     0.5      0.2\n",
       "75%      0.6         1.0        1.0    0.6          0.5     1.3      0.6\n",
       "max      1.3         1.7        1.4    1.4          6.1     1.3      2.0"
      ]
     },
     "metadata": {},
     "output_type": "display_data"
    },
    {
     "data": {
      "text/html": [
       "<div>\n",
       "<style scoped>\n",
       "    .dataframe tbody tr th:only-of-type {\n",
       "        vertical-align: middle;\n",
       "    }\n",
       "\n",
       "    .dataframe tbody tr th {\n",
       "        vertical-align: top;\n",
       "    }\n",
       "\n",
       "    .dataframe thead th {\n",
       "        text-align: right;\n",
       "    }\n",
       "</style>\n",
       "<table border=\"1\" class=\"dataframe\">\n",
       "  <thead>\n",
       "    <tr style=\"text-align: right;\">\n",
       "      <th></th>\n",
       "      <th>%_ot</th>\n",
       "      <th>n_taxi_сar</th>\n",
       "      <th>p_rosstat</th>\n",
       "      <th>k</th>\n",
       "      <th>remote_work</th>\n",
       "      <th>hybrid</th>\n",
       "      <th>tourism</th>\n",
       "    </tr>\n",
       "  </thead>\n",
       "  <tbody>\n",
       "    <tr>\n",
       "      <th>count</th>\n",
       "      <td>134.0</td>\n",
       "      <td>134.0</td>\n",
       "      <td>134.0</td>\n",
       "      <td>134.0</td>\n",
       "      <td>134.0</td>\n",
       "      <td>134.0</td>\n",
       "      <td>134.0</td>\n",
       "    </tr>\n",
       "    <tr>\n",
       "      <th>mean</th>\n",
       "      <td>1.2</td>\n",
       "      <td>0.9</td>\n",
       "      <td>1.4</td>\n",
       "      <td>0.0</td>\n",
       "      <td>-0.4</td>\n",
       "      <td>0.5</td>\n",
       "      <td>4.2</td>\n",
       "    </tr>\n",
       "    <tr>\n",
       "      <th>std</th>\n",
       "      <td>0.4</td>\n",
       "      <td>0.2</td>\n",
       "      <td>0.0</td>\n",
       "      <td>1.0</td>\n",
       "      <td>0.0</td>\n",
       "      <td>0.0</td>\n",
       "      <td>1.7</td>\n",
       "    </tr>\n",
       "    <tr>\n",
       "      <th>min</th>\n",
       "      <td>-0.0</td>\n",
       "      <td>0.7</td>\n",
       "      <td>1.4</td>\n",
       "      <td>-2.0</td>\n",
       "      <td>-0.4</td>\n",
       "      <td>0.5</td>\n",
       "      <td>0.9</td>\n",
       "    </tr>\n",
       "    <tr>\n",
       "      <th>25%</th>\n",
       "      <td>0.8</td>\n",
       "      <td>0.8</td>\n",
       "      <td>1.4</td>\n",
       "      <td>-0.3</td>\n",
       "      <td>-0.4</td>\n",
       "      <td>0.5</td>\n",
       "      <td>2.8</td>\n",
       "    </tr>\n",
       "    <tr>\n",
       "      <th>50%</th>\n",
       "      <td>1.3</td>\n",
       "      <td>1.0</td>\n",
       "      <td>1.4</td>\n",
       "      <td>0.1</td>\n",
       "      <td>-0.4</td>\n",
       "      <td>0.5</td>\n",
       "      <td>4.5</td>\n",
       "    </tr>\n",
       "    <tr>\n",
       "      <th>75%</th>\n",
       "      <td>1.5</td>\n",
       "      <td>1.0</td>\n",
       "      <td>1.4</td>\n",
       "      <td>0.9</td>\n",
       "      <td>-0.4</td>\n",
       "      <td>0.5</td>\n",
       "      <td>5.6</td>\n",
       "    </tr>\n",
       "    <tr>\n",
       "      <th>max</th>\n",
       "      <td>1.7</td>\n",
       "      <td>1.3</td>\n",
       "      <td>1.4</td>\n",
       "      <td>1.4</td>\n",
       "      <td>-0.4</td>\n",
       "      <td>0.5</td>\n",
       "      <td>7.4</td>\n",
       "    </tr>\n",
       "  </tbody>\n",
       "</table>\n",
       "</div>"
      ],
      "text/plain": [
       "        %_ot  n_taxi_сar  p_rosstat      k  remote_work  hybrid  tourism\n",
       "count  134.0       134.0      134.0  134.0        134.0   134.0    134.0\n",
       "mean     1.2         0.9        1.4    0.0         -0.4     0.5      4.2\n",
       "std      0.4         0.2        0.0    1.0          0.0     0.0      1.7\n",
       "min     -0.0         0.7        1.4   -2.0         -0.4     0.5      0.9\n",
       "25%      0.8         0.8        1.4   -0.3         -0.4     0.5      2.8\n",
       "50%      1.3         1.0        1.4    0.1         -0.4     0.5      4.5\n",
       "75%      1.5         1.0        1.4    0.9         -0.4     0.5      5.6\n",
       "max      1.7         1.3        1.4    1.4         -0.4     0.5      7.4"
      ]
     },
     "metadata": {},
     "output_type": "display_data"
    }
   ],
   "source": [
    "X_train_std_1, X_test_std_1, scaler = df_scaling(\n",
    "    X_train, X_test, numerical_columns=numerical_columns,\n",
    "    scaler=StandardScaler(),\n",
    "    return_scaler=True\n",
    ")"
   ]
  },
  {
   "cell_type": "code",
   "execution_count": 36,
   "metadata": {},
   "outputs": [
    {
     "data": {
      "text/plain": [
       "['data/scalers/scaler_Data7_9_std']"
      ]
     },
     "execution_count": 36,
     "metadata": {},
     "output_type": "execute_result"
    }
   ],
   "source": [
    "import joblib\n",
    "\n",
    "joblib.dump(scaler, 'data/scalers/scaler_Data7_9_std')"
   ]
  },
  {
   "cell_type": "markdown",
   "metadata": {},
   "source": [
    "---\n",
    "\n",
    "## <center><a id=3 style='color:red'>Сохранение данных</a>\n"
   ]
  },
  {
   "cell_type": "markdown",
   "metadata": {},
   "source": [
    "---\n",
    "\n",
    "---\n"
   ]
  },
  {
   "cell_type": "code",
   "execution_count": 37,
   "metadata": {},
   "outputs": [
    {
     "name": "stdout",
     "output_type": "stream",
     "text": [
      "Файл data/train/X_train_1.pkl записан\n",
      "Файл data/train/target_train_1.pkl записан\n"
     ]
    }
   ],
   "source": [
    "DIR = \"train/\"\n",
    "FILE_DICT = {\n",
    "    \"X_train_1\": X_train,\n",
    "    \"target_train_1\": y_train,\n",
    "}\n",
    "\n",
    "save_data(FILE_DICT, DIR)"
   ]
  },
  {
   "cell_type": "code",
   "execution_count": 38,
   "metadata": {},
   "outputs": [
    {
     "name": "stdout",
     "output_type": "stream",
     "text": [
      "Файл data/test/X_test_1.pkl записан\n"
     ]
    }
   ],
   "source": [
    "DIR = \"test/\"\n",
    "FILE_DICT = {\n",
    "    \"X_test_1\": X_test,\n",
    "}\n",
    "\n",
    "save_data(FILE_DICT, DIR)"
   ]
  },
  {
   "cell_type": "markdown",
   "metadata": {},
   "source": [
    "---\n"
   ]
  },
  {
   "cell_type": "code",
   "execution_count": 39,
   "metadata": {},
   "outputs": [
    {
     "name": "stdout",
     "output_type": "stream",
     "text": [
      "Файл data/train_std/X_train_std_1.pkl записан\n",
      "Файл data/train_std/target_train_1.pkl записан\n"
     ]
    }
   ],
   "source": [
    "DIR = \"train_std/\"\n",
    "FILE_DICT = {\n",
    "    \"X_train_std_1\": X_train_std_1,\n",
    "    \"target_train_1\": y_train,\n",
    "}\n",
    "\n",
    "save_data(FILE_DICT, DIR)"
   ]
  },
  {
   "cell_type": "code",
   "execution_count": 40,
   "metadata": {},
   "outputs": [
    {
     "name": "stdout",
     "output_type": "stream",
     "text": [
      "Файл data/test_std/X_test_std_1.pkl записан\n"
     ]
    }
   ],
   "source": [
    "DIR = \"test_std/\"\n",
    "FILE_DICT = {\n",
    "    \"X_test_std_1\": X_test_std_1,\n",
    "}\n",
    "\n",
    "save_data(FILE_DICT, DIR)"
   ]
  },
  {
   "cell_type": "markdown",
   "metadata": {},
   "source": [
    "---\n"
   ]
  },
  {
   "cell_type": "markdown",
   "metadata": {},
   "source": [
    "---\n"
   ]
  },
  {
   "cell_type": "markdown",
   "metadata": {},
   "source": [
    "---\n",
    "\n",
    "## <center><a id=3 style='color:red'>Загрузка данных</a>\n"
   ]
  },
  {
   "cell_type": "code",
   "execution_count": 41,
   "metadata": {},
   "outputs": [
    {
     "name": "stdout",
     "output_type": "stream",
     "text": [
      "Файл data/train/X_train_1.pkl загружен\n",
      "Файл data/train/target_train_1.pkl загружен\n"
     ]
    },
    {
     "data": {
      "text/plain": [
       "((106, 7), (106,))"
      ]
     },
     "execution_count": 41,
     "metadata": {},
     "output_type": "execute_result"
    }
   ],
   "source": [
    "DIR = \"train/\"\n",
    "FILE_LST = [\n",
    "    \"X_train_1\",\n",
    "    \"target_train_1\",\n",
    "]\n",
    "\n",
    "X_train_1, target_train_1 = (\n",
    "    load_data(FILE_LST, DIR)\n",
    ")\n",
    "\n",
    "X_train_1.shape, target_train_1.shape"
   ]
  },
  {
   "cell_type": "code",
   "execution_count": 42,
   "metadata": {},
   "outputs": [
    {
     "name": "stdout",
     "output_type": "stream",
     "text": [
      "Файл data/test/X_test_1.pkl загружен\n"
     ]
    },
    {
     "data": {
      "text/plain": [
       "(134, 7)"
      ]
     },
     "execution_count": 42,
     "metadata": {},
     "output_type": "execute_result"
    }
   ],
   "source": [
    "DIR = \"test/\"\n",
    "FILE_LST = [\n",
    "    \"X_test_1\",\n",
    "]\n",
    "\n",
    "X_test_1 = load_data(\n",
    "    FILE_LST, DIR\n",
    ")\n",
    "\n",
    "X_test_1[0].shape"
   ]
  },
  {
   "cell_type": "markdown",
   "metadata": {},
   "source": [
    "---\n"
   ]
  },
  {
   "cell_type": "code",
   "execution_count": 43,
   "metadata": {},
   "outputs": [
    {
     "name": "stdout",
     "output_type": "stream",
     "text": [
      "Файл data/train_std/X_train_std_1.pkl загружен\n",
      "Файл data/train_std/target_train_1.pkl загружен\n"
     ]
    },
    {
     "data": {
      "text/plain": [
       "((106, 7), (106,))"
      ]
     },
     "execution_count": 43,
     "metadata": {},
     "output_type": "execute_result"
    }
   ],
   "source": [
    "DIR = \"train_std/\"\n",
    "FILE_LST = [\n",
    "    \"X_train_std_1\",\n",
    "    \"target_train_1\",\n",
    "]\n",
    "\n",
    "(\n",
    "    X_train_std_1,\n",
    "    target_train_1\n",
    ") = load_data(FILE_LST, DIR)\n",
    "\n",
    "X_train_std_1.shape, target_train_1.shape"
   ]
  },
  {
   "cell_type": "code",
   "execution_count": 44,
   "metadata": {},
   "outputs": [
    {
     "name": "stdout",
     "output_type": "stream",
     "text": [
      "Файл data/test_std/X_test_std_1.pkl загружен\n"
     ]
    },
    {
     "data": {
      "text/plain": [
       "(134, 7)"
      ]
     },
     "execution_count": 44,
     "metadata": {},
     "output_type": "execute_result"
    }
   ],
   "source": [
    "DIR = \"test_std/\"\n",
    "FILE_LST = [\n",
    "    \"X_test_std_1\",\n",
    "]\n",
    "\n",
    "(\n",
    "    X_test_std_1\n",
    ") = load_data(FILE_LST, DIR)\n",
    "\n",
    "X_test_std_1[0].shape"
   ]
  }
 ],
 "metadata": {
  "kernelspec": {
   "display_name": ".venv",
   "language": "python",
   "name": "python3"
  },
  "language_info": {
   "codemirror_mode": {
    "name": "ipython",
    "version": 3
   },
   "file_extension": ".py",
   "mimetype": "text/x-python",
   "name": "python",
   "nbconvert_exporter": "python",
   "pygments_lexer": "ipython3",
   "version": "3.12.3"
  }
 },
 "nbformat": 4,
 "nbformat_minor": 2
}
